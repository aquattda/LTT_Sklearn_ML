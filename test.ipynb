{
 "cells": [
  {
   "cell_type": "markdown",
   "id": "7646d568",
   "metadata": {},
   "source": [
    "# TÌM HIỂU TẤT CẢ CÁC THUẬT TOÁN MACHINE LEARING"
   ]
  },
  {
   "cell_type": "markdown",
   "id": "9c266d4d",
   "metadata": {},
   "source": [
    "## I.\tSupervised Learning"
   ]
  },
  {
   "cell_type": "markdown",
   "id": "a9c2f7c4",
   "metadata": {},
   "source": [
    "### 1.\tLinear Regression (Hồi quy tuyến tính)"
   ]
  },
  {
   "cell_type": "markdown",
   "id": "45c3a45e",
   "metadata": {},
   "source": [
    "-\tĐây là thuật toán tìm ra mối quan hệ tuyến tính tồn tại **1-N** input X và output Y.\n",
    "-\tMối quan hệ tuyến tính là mối quan hệ bậc 1 (y = ax + b) giữa 2 biến X, Y.  </br>\n",
    "⟶ Dựa vào đó để đưa ra kết quả Y dựa vào đầu vào X. </br>\n",
    "⟶ Trong đó X là **Independent Variable** (**Feature**) và Y là **Dependent Variable** (**Target**).\n",
    "\n",
    "\n"
   ]
  },
  {
   "cell_type": "markdown",
   "id": "097fdb4f",
   "metadata": {},
   "source": [
    "Phân loại input X và bài toán thực tế:"
   ]
  },
  {
   "cell_type": "markdown",
   "id": "af91c7ba",
   "metadata": {},
   "source": [
    "-\tNếu tồn tại duy nhất một input X (Simple Linear Regression): Dự đoán mức lương của một nhân viên dựa vào số năm kinh nghiệm của nhân viên đó."
   ]
  },
  {
   "cell_type": "markdown",
   "id": "aaa530b6",
   "metadata": {},
   "source": [
    "![alt text](https://raw.githubusercontent.com/aquattda/LTT_Art-Design-for-IT/main/Images/color_basic.jpg) "
   ]
  },
  {
   "cell_type": "markdown",
   "id": "7d16826d",
   "metadata": {},
   "source": []
  }
 ],
 "metadata": {
  "language_info": {
   "name": "python"
  }
 },
 "nbformat": 4,
 "nbformat_minor": 5
}
