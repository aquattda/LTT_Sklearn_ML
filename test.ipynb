{
 "cells": [
  {
   "cell_type": "markdown",
   "id": "7646d568",
   "metadata": {},
   "source": [
    "# TÌM HIỂU TẤT CẢ CÁC THUẬT TOÁN MACHINE LEARING"
   ]
  },
  {
   "cell_type": "markdown",
   "id": "9c266d4d",
   "metadata": {},
   "source": [
    "## I.\tSupervised Learning"
   ]
  },
  {
   "cell_type": "markdown",
   "id": "a9c2f7c4",
   "metadata": {},
   "source": [
    "### 1.\tLinear Regression (Hồi quy tuyến tính)"
   ]
  },
  {
   "cell_type": "markdown",
   "id": "45c3a45e",
   "metadata": {},
   "source": [
    "-\tĐây là thuật toán tìm ra mối quan hệ tuyến tính tồn tại $1$-$N$ input X và output Y.\n",
    "-\tMối quan hệ tuyến tính là mối quan hệ bậc 1 (y = ax + b) giữa 2 biến X, Y.  </br>\n",
    "⟶ Dựa vào đó để đưa ra kết quả Y dựa vào đầu vào X. </br>\n",
    "⟶ Trong đó X là **Independent Variable** (**Feature**) và Y là **Dependent Variable** (**Target**). </br>\n",
    "\n",
    "⇒ Nếu tồn tại duy nhất một input $X$ (**Simple Linear Regression**): Dự đoán mức lương của một nhân viên dựa vào số năm kinh nghiệm của nhân viên đó."
   ]
  },
  {
   "cell_type": "markdown",
   "id": "aaa530b6",
   "metadata": {},
   "source": [
    "![alt text](https://raw.githubusercontent.com/aquattda/LTT_Sklearn_ML/blob/main/images/Simple_Linear.png) "
   ]
  },
  {
   "cell_type": "markdown",
   "id": "90054ea3",
   "metadata": {},
   "source": [
    "**Trong đó:**\n",
    "-\tA (**Intercept/Bias**): giá trị kỳ vọng của y hay gọi chung là giá trị trung bình khi **X** = 0.\n",
    "-\tB (**Slope/ Coefficient**): độ dốc, khi **X** thay đổi một $\\Delta X$ thì giá trị kỳ vọng của Y sẽ là $\\Delta Y = b \\cdot \\Delta X$ </br>\n",
    "Giả sử: Dự đoán điểm thi **Y** = 40 + 5*(giờ học) </br>\n",
    "$A$ = 40: Nếu giờ học = 0 thì điểm dự đoán TB là 40 nhưng sẽ có sai số $\\varepsilon$.</br>\n",
    "$B$ = 5: Nếu tăng giờ học lên 1 giờ thì số điểm sẽ tăng 5; thêm 2 giờ học thì điểm tăng 10; tăng k giờ  học thì điểm tăng 5k. </br>\n",
    "\n",
    "\n",
    "⇒ Nếu tồn tại $N$ input $X$ (**Multiple Linear Regression**): Dự đoán mức lương của một nhân viên dựa vào số năm kinh nghiệm của nhân viên và trình độ học vấn.\n"
   ]
  },
  {
   "cell_type": "markdown",
   "id": "e3fb9fa0",
   "metadata": {},
   "source": [
    "![alt text](https://raw.githubusercontent.com/aquattda/LTT_Sklearn_ML/blob/main/images/Multiple_Linear.png) "
   ]
  },
  {
   "cell_type": "markdown",
   "id": "abd3d154",
   "metadata": {},
   "source": [
    "### 2.\tPolynomial Regression (Đa thức)\n"
   ]
  },
  {
   "cell_type": "markdown",
   "id": "cf8c1445",
   "metadata": {},
   "source": [
    "- Đây được coi là bản cải tiến của linear do có sự xuất hiện của các phần tử bậc $1, 2, … N$. Sử dụng khi chúng ta muốn biết giá trị $N$ là bao nhiêu."
   ]
  },
  {
   "cell_type": "markdown",
   "id": "f3e71e26",
   "metadata": {},
   "source": [
    "![alt text](https://github.com/aquattda/LTT_Sklearn_ML/blob/main/images/polynomial.jpeg) "
   ]
  },
  {
   "cell_type": "markdown",
   "id": "07958f23",
   "metadata": {},
   "source": [
    "So sánh Simple linear vs Polynomial Regresstion:"
   ]
  },
  {
   "cell_type": "markdown",
   "id": "af03a93b",
   "metadata": {},
   "source": [
    "| Simple linear model | Polynomial model |\n",
    "|---|---|\n",
    "| • Chỉ số $X$ nằm ở dưới *(subscript)* giúp phân biệt các $x$ đầu vào khác nhau. | • Chỉ số $X$ ở phía trên *(superscript)* để nói về **bậc** của $x$ tương ứng. |\n"
   ]
  },
  {
   "cell_type": "markdown",
   "id": "d71cabc7",
   "metadata": {},
   "source": [
    "#### 2.2 Overfitting"
   ]
  },
  {
   "cell_type": "markdown",
   "id": "12223eca",
   "metadata": {},
   "source": [
    "-\tXảy ra khi độ phức tạp của mô hình > độ phức tạp của dữ liệu"
   ]
  },
  {
   "cell_type": "markdown",
   "id": "261faf5d",
   "metadata": {},
   "source": [
    "![alt text](https://github.com/aquattda/LTT_Sklearn_ML/blob/main/images/overfitting.png) "
   ]
  },
  {
   "cell_type": "markdown",
   "id": "a9a2efc9",
   "metadata": {},
   "source": [
    "Trong sơ đồ này:\n",
    "- Có **6 data points** được huấn luyện bởi **2 mô hình Polynomial** ($N=2$, $N=10$).\n",
    "  - Với **$N=2$** *(đường vàng)*: sai số ở mức **chấp nhận được**.\n",
    "  - Với **$N=10$** *(đường đỏ)*: sai số **train** thấp hơn $N=2$, nhưng khi thêm dữ liệu mới/suy rộng ra **test**, sai số **tăng** (tức khả năng khái quát kém).\n",
    "- **$N=10$** đại diện cho **hàm bậc cao** ⇒ mô hình **phức tạp**. </br>\n",
    "⟶ Đây là ví dụ điển hình của **Overfitting**.  \n",
    "⟶ **$N$ càng cao** ⇒ **train error** thường **thấp**, nhưng **test error** thường **cao**.\n"
   ]
  },
  {
   "cell_type": "markdown",
   "id": "5dfb823e",
   "metadata": {},
   "source": [
    "**Giả sử:** Ở kiểm tra giữa kỳ, sinh viên “học vẹt” đạt điểm rất cao vì cấu trúc bài không đổi.  \n",
    "Đến **cuối kỳ**, cấu trúc/bậc phức tạp **thay đổi** ⇒ điểm **giảm**.\n",
    "\n",
    "⟶ Đây là ví dụ điển hình của **overfitting**: học thuộc “đề cũ” nhưng **khái quát hoá** kém trên đề mới.\n",
    "\n",
    "⟶ Khi triển khai, cần **tối thiểu hoá sai số** giữa dự đoán và thực tế **đồng thời** **kiểm soát độ phức tạp mô hình** ⇒ **Regularization (Điều chuẩn)**.\n"
   ]
  },
  {
   "cell_type": "markdown",
   "id": "7c65feca",
   "metadata": {},
   "source": [
    "#### 2.3. Regularization cơ bản:"
   ]
  },
  {
   "cell_type": "markdown",
   "id": "315bb1f3",
   "metadata": {},
   "source": [
    "##### 2.3.1. Kỹ thuật 1 **(Lasso)**"
   ]
  },
  {
   "cell_type": "markdown",
   "id": "d3914af3",
   "metadata": {},
   "source": [
    "- Thành phần **Regulaziation** của trọng số Wj được tính bằng tổng giá trị tuyệt đối."
   ]
  },
  {
   "cell_type": "markdown",
   "id": "eaf2cf45",
   "metadata": {},
   "source": [
    "$$\n",
    "\\text{Cost}_{\\mathrm{L1}}\n",
    "= \\sum_{i=0}^{N}\\!\\left(y_i-\\sum_{j=0}^{M} x_{ij} W_j\\right)^2\n",
    "+ \\lambda \\sum_{j=0}^{M} \\lvert W_j\\rvert\n",
    "$$\n"
   ]
  },
  {
   "cell_type": "markdown",
   "id": "fa309579",
   "metadata": {},
   "source": [
    "**So sánh Normal & Lasso:**"
   ]
  },
  {
   "cell_type": "markdown",
   "id": "f065c7f1",
   "metadata": {},
   "source": [
    "![alt text](https://github.com/aquattda/LTT_Sklearn_ML/blob/main/images/overfitting.png) </br>"
   ]
  },
  {
   "cell_type": "markdown",
   "id": "4d156cc5",
   "metadata": {},
   "source": [
    "- **Biểu đồ bên trái (chưa Regularization):**\n",
    "  - Độ dài đoạn thẳng tỉ lệ với $W_i$. Đoạn càng dài ⇒ feature $X_i$ ảnh hưởng càng mạnh đến output.\n",
    "\n",
    "- **Biểu đồ bên phải (đã Regularization):**\n",
    "  - Trọng số bị **thu nhỏ** về gần 0; một số **bị ép đúng 0** (ví dụ $j=0$ và $j=5$) ⇒ các feature tương ứng **không còn ảnh hưởng** đến output.\n",
    "\n",
    "- **Kết luận:** **LASSO (L1)** hay dùng cho **Feature Selection** vì có thể làm nhiều $W_i=0$;  "
   ]
  },
  {
   "cell_type": "markdown",
   "id": "f20f7390",
   "metadata": {},
   "source": [
    "##### 2.3.2. Kỹ thuật 2 **(Ridge)**"
   ]
  },
  {
   "cell_type": "markdown",
   "id": "4870d61f",
   "metadata": {
    "notebookRunGroups": {
     "groupValue": "1"
    }
   },
   "source": [
    "- Thành phần regura của trọng số Wj được tính bằng tổng bình phương."
   ]
  },
  {
   "cell_type": "markdown",
   "id": "24b3fdbd",
   "metadata": {},
   "source": [
    "$$\n",
    "\\text{Cost}_{\\mathrm{L2}}\n",
    "= \\sum_{i=0}^{N}\\!\\left(y_i-\\sum_{j=0}^{M} x_{ij} W_j\\right)^2\n",
    "+ \\lambda \\sum_{j=0}^{M} W_j^{2}\n",
    "$$"
   ]
  },
  {
   "cell_type": "markdown",
   "id": "435e7156",
   "metadata": {},
   "source": [
    "**So sánh Normal & Ridge:**"
   ]
  },
  {
   "cell_type": "markdown",
   "id": "7dc166e8",
   "metadata": {},
   "source": [
    "![alt text](https://github.com/aquattda/LTT_Sklearn_ML/blob/main/images/overfitting.png) </br>"
   ]
  },
  {
   "cell_type": "markdown",
   "id": "685e3624",
   "metadata": {},
   "source": [
    "-\tĐối với ridge thì nó sẽ giảm độ ảnh hưởng của toàn bộ các feature chứ không “ép” như lasso </br>\n",
    "⟶ Trong ML ta có thể áp dụng các kỹ thuật regularization trong nhiều bài toán khác nhau kể cả bài toán regression, classification\n",
    "\n",
    "- **Đối với Ridge (L2)**: giảm (shrink) **độ lớn của tất cả hệ số** → hiếm khi bằng 0. </br>\n",
    "⟶ Trong ML, **regularization** được áp dụng rộng rãi cho cả **regression** lẫn **classification** để kiểm soát độ phức tạp và giảm overfitting.\n"
   ]
  },
  {
   "cell_type": "markdown",
   "id": "43f087ab",
   "metadata": {},
   "source": [
    "##### 2.3.3. Kỹ thuật 3 **(Elastic Net)**"
   ]
  },
  {
   "cell_type": "markdown",
   "id": "3f0ed0bb",
   "metadata": {},
   "source": [
    "- Sự kết hợp giữa L1 & L2"
   ]
  },
  {
   "cell_type": "markdown",
   "id": "173b3672",
   "metadata": {},
   "source": [
    "![alt text](https://github.com/aquattda/LTT_Sklearn_ML/blob/main/images/overfitting.png) </br>"
   ]
  },
  {
   "cell_type": "markdown",
   "id": "1c170fc3",
   "metadata": {},
   "source": []
  }
 ],
 "metadata": {
  "language_info": {
   "name": "python"
  }
 },
 "nbformat": 4,
 "nbformat_minor": 5
}
