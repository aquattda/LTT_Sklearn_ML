{
 "cells": [
  {
   "cell_type": "markdown",
   "id": "7646d568",
   "metadata": {},
   "source": [
    "# TÌM HIỂU TẤT CẢ CÁC THUẬT TOÁN MACHINE LEARING"
   ]
  },
  {
   "cell_type": "markdown",
   "id": "9c266d4d",
   "metadata": {},
   "source": [
    "## I.\tSupervised Learning"
   ]
  },
  {
   "cell_type": "markdown",
   "id": "a9c2f7c4",
   "metadata": {},
   "source": [
    "### 1.\tLinear Regression (Hồi quy tuyến tính)"
   ]
  },
  {
   "cell_type": "markdown",
   "id": "45c3a45e",
   "metadata": {},
   "source": [
    "-\tĐây là thuật toán tìm ra mối quan hệ tuyến tính tồn tại **1-N** input X và output Y.\n",
    "-\tMối quan hệ tuyến tính là mối quan hệ bậc 1 (y = ax + b) giữa 2 biến X, Y.  </br>\n",
    "⟶ Dựa vào đó để đưa ra kết quả Y dựa vào đầu vào X. </br>\n",
    "⟶ Trong đó X là **Independent Variable** (**Feature**) và Y là **Dependent Variable** (**Target**).\n",
    "\n",
    "\n"
   ]
  },
  {
   "cell_type": "markdown",
   "id": "097fdb4f",
   "metadata": {},
   "source": [
    "Phân loại input X và bài toán thực tế:"
   ]
  },
  {
   "cell_type": "markdown",
   "id": "af91c7ba",
   "metadata": {},
   "source": [
    "-\tNếu tồn tại duy nhất một input **X** (**Simple Linear Regression**): Dự đoán mức lương của một nhân viên dựa vào số năm kinh nghiệm của nhân viên đó."
   ]
  },
  {
   "cell_type": "markdown",
   "id": "aaa530b6",
   "metadata": {},
   "source": [
    "![alt text](https://raw.githubusercontent.com/aquattda/LTT_Sklearn_ML/blob/main/images/Simple_Linear.png) "
   ]
  },
  {
   "cell_type": "markdown",
   "id": "90054ea3",
   "metadata": {},
   "source": [
    "**Trong đó:**\n",
    "-\tA (**Intercept/Bias**): giá trị kỳ vọng của y hay gọi chung là giá trị trung bình khi **X** = 0.\n",
    "-\tB (**Slope/ Coefficient**): độ dốc, khi **X** thay đổi một $\\Delta X$ thì giá trị kỳ vọng của Y sẽ là $\\Delta Y = b \\cdot \\Delta X$ </br>\n",
    "Giả sử: Dự đoán điểm thi **Y** = 40 + 5*(giờ học) </br>\n",
    "A = 40: Nếu giờ học = 0 thì điểm dự đoán TB là 40 nhưng sẽ có sai số $\\varepsilon$.</br>\n",
    "B = 5: Nếu tăng giờ học lên 1 giờ thì số điểm sẽ tăng 5; thêm 2 giờ học thì điểm tăng 10; tăng k giờ  học thì điểm tăng 5k. "
   ]
  },
  {
   "cell_type": "markdown",
   "id": "7f711219",
   "metadata": {},
   "source": [
    "\n",
    "-\tNếu tồn tại N input X (**Multiple Linear Regression**): Dự đoán mức lương của một nhân viên dựa vào số năm kinh nghiệm của nhân viên và trình độ học vấn.\n"
   ]
  },
  {
   "cell_type": "markdown",
   "id": "e3fb9fa0",
   "metadata": {},
   "source": [
    "![alt text](https://raw.githubusercontent.com/aquattda/LTT_Sklearn_ML/blob/main/images/Multiple_Linear.png) "
   ]
  },
  {
   "cell_type": "markdown",
   "id": "abd3d154",
   "metadata": {},
   "source": []
  }
 ],
 "metadata": {
  "language_info": {
   "name": "python"
  }
 },
 "nbformat": 4,
 "nbformat_minor": 5
}
